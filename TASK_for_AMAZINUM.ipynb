{
  "nbformat": 4,
  "nbformat_minor": 0,
  "metadata": {
    "colab": {
      "provenance": [],
      "authorship_tag": "ABX9TyNe0hOX9SyEjaMOfHM40PSA",
      "include_colab_link": true
    },
    "kernelspec": {
      "name": "python3",
      "display_name": "Python 3"
    },
    "language_info": {
      "name": "python"
    }
  },
  "cells": [
    {
      "cell_type": "markdown",
      "metadata": {
        "id": "view-in-github",
        "colab_type": "text"
      },
      "source": [
        "<a href=\"https://colab.research.google.com/github/KuzmenkoO/taskForAmazinum/blob/main/TASK_for_AMAZINUM.ipynb\" target=\"_parent\"><img src=\"https://colab.research.google.com/assets/colab-badge.svg\" alt=\"Open In Colab\"/></a>"
      ]
    },
    {
      "cell_type": "code",
      "execution_count": null,
      "metadata": {
        "id": "CuA-d27th9ie"
      },
      "outputs": [],
      "source": [
        "import random\n",
        "import matplotlib.pyplot as plt\n",
        "\n",
        "# 1) Генеруємо список із 20 випадкових чисел від 0 до 100\n",
        "heights = [random.randint(0, 100) for _ in range(20)]\n",
        "print(\"Згенеровані висоти:\", heights)\n",
        "\n",
        "\n",
        "# 2) Функція для знаходження глибини найглибшого озера\n",
        "def find_lake_depth(heights):\n",
        "    max_depth = 0  # Початкова глибина\n",
        "    lake_start, lake_end = -1, -1  # Індекси найглибшого озера\n",
        "\n",
        "    for i in range(len(heights)):\n",
        "        for j in range(i + 2, len(heights)):\n",
        "            if heights[i] > heights[i + 1] and heights[j] > heights[j - 1]:\n",
        "                depth = min(heights[i], heights[j]) - min(heights[i + 1:j])\n",
        "                if depth > max_depth:\n",
        "                    max_depth = depth\n",
        "                    lake_start, lake_end = i, j\n",
        "\n",
        "    return max_depth, lake_start, lake_end\n",
        "\n",
        "\n",
        "# Знаходимо найглибше озеро\n",
        "deepest_lake, start, end = find_lake_depth(heights)\n",
        "print(\"Глибина найглибшого озера:\", deepest_lake)\n",
        "\n",
        "# 3) Візуалізація висот і озер\n",
        "plt.figure(figsize=(10, 5))\n",
        "plt.plot(heights, marker='o', linestyle='-', color='blue', label='Висоти')\n",
        "plt.fill_between(range(len(heights)), heights, color='lightblue', alpha=0.4)\n",
        "\n",
        "# Підсвічуємо найглибше озеро\n",
        "if start != -1 and end != -1:\n",
        "    plt.fill_between(range(start, end + 1), heights[start:end + 1], color='cyan', alpha=0.6, label='Найглибше озеро')\n",
        "\n",
        "plt.xlabel(\"Індекс точки\")\n",
        "plt.ylabel(\"Висота\")\n",
        "plt.title(\"Візуалізація висот та озер\")\n",
        "plt.legend()\n",
        "plt.grid()\n",
        "plt.show()\n"
      ]
    },
    {
      "cell_type": "code",
      "source": [
        "import numpy as np\n",
        "import matplotlib.pyplot as plt\n",
        "import seaborn as sns\n",
        "\n",
        "# 1) Генеруємо матрицю 20x20 з випадковими бінарними значеннями\n",
        "size = 20\n",
        "matrix = np.random.choice([0, 1], size=(size, size))\n",
        "print(\"Початкова матриця:\")\n",
        "print(matrix)\n",
        "\n",
        "# 2) Функція для виконання одного кроку симуляції життя клітин\n",
        "def next_generation(matrix):\n",
        "    new_matrix = np.copy(matrix)  # Копіюємо початкову матрицю\n",
        "\n",
        "    for i in range(size):\n",
        "        for j in range(size):\n",
        "            # Визначаємо сусідів у межах матриці\n",
        "            neighbors = matrix[max(0, i-1):min(size, i+2), max(0, j-1):min(size, j+2)]\n",
        "            alive_neighbors = np.sum(neighbors) - matrix[i, j]\n",
        "\n",
        "            # Правила оновлення клітин\n",
        "            if matrix[i, j] == 1 and (alive_neighbors < 2 or alive_neighbors > 3):\n",
        "                new_matrix[i, j] = 0  # Клітина вмирає\n",
        "            elif matrix[i, j] == 0 and alive_neighbors == 3:\n",
        "                new_matrix[i, j] = 1  # Клітина оживає\n",
        "\n",
        "    return new_matrix\n",
        "\n",
        "# 3) Запускаємо 20 ітерацій\n",
        "steps = 20\n",
        "for _ in range(steps):\n",
        "    matrix = next_generation(matrix)\n",
        "\n",
        "print(\"Матриця після 20 кроків:\")\n",
        "print(matrix)\n",
        "\n",
        "# 4) Візуалізація результатів\n",
        "plt.figure(figsize=(6, 6))\n",
        "sns.heatmap(matrix, cmap=\"Greens\", cbar=False, linewidths=0.5, linecolor='black', square=True)\n",
        "plt.title(\"Стан матриці після 20 ітерацій\")\n",
        "plt.show()\n"
      ],
      "metadata": {
        "id": "bsguWqx6kFxY"
      },
      "execution_count": null,
      "outputs": []
    }
  ]
}